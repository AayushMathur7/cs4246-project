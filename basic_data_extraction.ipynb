{
 "cells": [
  {
   "cell_type": "code",
   "execution_count": 34,
   "id": "9f975166",
   "metadata": {},
   "outputs": [],
   "source": [
    "import pandas as pd\n",
    "import numpy as np"
   ]
  },
  {
   "cell_type": "code",
   "execution_count": 35,
   "id": "ab9fb56d",
   "metadata": {},
   "outputs": [],
   "source": [
    "#often period of 14 days\n",
    "def calculate_RSI(data, period=14*13):\n",
    "    difference = data.diff(1)\n",
    "    gain = (difference.where(difference > 0, 0)).rolling(window=period).mean()\n",
    "    loss = (-difference.where(difference < 0, 0)).rolling(window=period).mean()\n",
    "    RS = gain / loss\n",
    "    RSI = 100 - (100 / (1 + RS))\n",
    "    RSI = RSI.round(2)\n",
    "    return RSI"
   ]
  },
  {
   "cell_type": "code",
   "execution_count": 36,
   "id": "3cee33fa",
   "metadata": {},
   "outputs": [],
   "source": [
    "#often period of 14 days\n",
    "def calculate_stochastic(data, period=14*13):\n",
    "    highest = data['High'].rolling(window=period).max()\n",
    "    lowest = data['Low'].rolling(window=period).min()\n",
    "    data['%K'] = (data['Close'] - lowest) / (highest - lowest) * 100\n",
    "    data['%D'] = data['%K'].rolling(window=3).mean()\n",
    "    data['%K'] = data['%K'].round(2)\n",
    "    data['%D'] = data['%D'].round(2)\n",
    "    return data[['%K', '%D']]"
   ]
  },
  {
   "cell_type": "code",
   "execution_count": 37,
   "id": "fa97a2f6",
   "metadata": {},
   "outputs": [],
   "source": [
    "#simple moving average of range 20 days\n",
    "def calculate_sma(data, period=20*13):\n",
    "    sma = data['Close'].rolling(window=period).mean()\n",
    "    sma = sma.round(2)\n",
    "    return sma"
   ]
  },
  {
   "cell_type": "code",
   "execution_count": 38,
   "id": "e696a665",
   "metadata": {},
   "outputs": [],
   "source": [
    "df = pd.read_csv('raw.csv')\n",
    "\n",
    "# Calculate previous price\n",
    "df['Previous Price'] = df['Close'].shift(1)\n",
    "\n",
    "# Calculate price difference\n",
    "df['Price Difference'] = df['Close'] - df['Previous Price']\n",
    "df['Price Difference'] = df['Price Difference'].round(2)\n",
    "\n",
    "# Calculate RSI\n",
    "df['RSI'] = calculate_RSI(df['Close'])\n",
    "\n",
    "# Calculate Stochastic \n",
    "df[['%K', '%D']] = calculate_stochastic(df)\n",
    "\n",
    "# Calculate Simple Moving Average\n",
    "df['SMA'] = calculate_sma(df)\n",
    "\n",
    "# Output the DataFrame to a CSV file\n",
    "output_path = 'basic.csv'\n",
    "df.to_csv(output_path, index=False)\n",
    "\n",
    "#print(df)"
   ]
  },
  {
   "cell_type": "code",
   "execution_count": null,
   "id": "000105ef",
   "metadata": {},
   "outputs": [],
   "source": []
  }
 ],
 "metadata": {
  "kernelspec": {
   "display_name": "Python 3 (ipykernel)",
   "language": "python",
   "name": "python3"
  },
  "language_info": {
   "codemirror_mode": {
    "name": "ipython",
    "version": 3
   },
   "file_extension": ".py",
   "mimetype": "text/x-python",
   "name": "python",
   "nbconvert_exporter": "python",
   "pygments_lexer": "ipython3",
   "version": "3.11.5"
  }
 },
 "nbformat": 4,
 "nbformat_minor": 5
}
