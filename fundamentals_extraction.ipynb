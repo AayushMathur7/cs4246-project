{
 "cells": [
  {
   "cell_type": "code",
   "execution_count": 1,
   "metadata": {
    "tags": []
   },
   "outputs": [
    {
     "name": "stdout",
     "output_type": "stream",
     "text": [
      "Collecting simfin\n",
      "  Downloading simfin-1.0.0-py3-none-any.whl (61 kB)\n",
      "Requirement already satisfied: numpy in c:\\users\\27588\\anaconda3\\lib\\site-packages (from simfin) (1.20.3)\n",
      "Requirement already satisfied: requests in c:\\users\\27588\\anaconda3\\lib\\site-packages (from simfin) (2.26.0)\n",
      "Requirement already satisfied: pandas in c:\\users\\27588\\anaconda3\\lib\\site-packages (from simfin) (1.3.4)\n",
      "Requirement already satisfied: python-dateutil>=2.7.3 in c:\\users\\27588\\anaconda3\\lib\\site-packages (from pandas->simfin) (2.8.2)\n",
      "Requirement already satisfied: pytz>=2017.3 in c:\\users\\27588\\anaconda3\\lib\\site-packages (from pandas->simfin) (2021.3)\n",
      "Requirement already satisfied: six>=1.5 in c:\\users\\27588\\anaconda3\\lib\\site-packages (from python-dateutil>=2.7.3->pandas->simfin) (1.16.0)\n",
      "Requirement already satisfied: certifi>=2017.4.17 in c:\\users\\27588\\anaconda3\\lib\\site-packages (from requests->simfin) (2021.10.8)\n",
      "Requirement already satisfied: urllib3<1.27,>=1.21.1 in c:\\users\\27588\\anaconda3\\lib\\site-packages (from requests->simfin) (1.26.7)\n",
      "Requirement already satisfied: idna<4,>=2.5 in c:\\users\\27588\\anaconda3\\lib\\site-packages (from requests->simfin) (3.2)\n",
      "Requirement already satisfied: charset-normalizer~=2.0.0 in c:\\users\\27588\\anaconda3\\lib\\site-packages (from requests->simfin) (2.0.4)\n",
      "Installing collected packages: simfin\n",
      "Successfully installed simfin-1.0.0\n"
     ]
    }
   ],
   "source": [
    "!pip install simfin"
   ]
  },
  {
   "cell_type": "code",
   "execution_count": 2,
   "metadata": {},
   "outputs": [
    {
     "name": "stdout",
     "output_type": "stream",
     "text": [
      "Requirement already satisfied: matplotlib in c:\\users\\27588\\anaconda3\\lib\\site-packages (3.4.3)\n",
      "Requirement already satisfied: kiwisolver>=1.0.1 in c:\\users\\27588\\anaconda3\\lib\\site-packages (from matplotlib) (1.3.1)\n",
      "Requirement already satisfied: numpy>=1.16 in c:\\users\\27588\\anaconda3\\lib\\site-packages (from matplotlib) (1.20.3)\n",
      "Requirement already satisfied: python-dateutil>=2.7 in c:\\users\\27588\\anaconda3\\lib\\site-packages (from matplotlib) (2.8.2)\n",
      "Requirement already satisfied: pillow>=6.2.0 in c:\\users\\27588\\anaconda3\\lib\\site-packages (from matplotlib) (8.4.0)\n",
      "Requirement already satisfied: pyparsing>=2.2.1 in c:\\users\\27588\\anaconda3\\lib\\site-packages (from matplotlib) (3.0.4)\n",
      "Requirement already satisfied: cycler>=0.10 in c:\\users\\27588\\anaconda3\\lib\\site-packages (from matplotlib) (0.10.0)\n",
      "Requirement already satisfied: six in c:\\users\\27588\\anaconda3\\lib\\site-packages (from cycler>=0.10->matplotlib) (1.16.0)\n"
     ]
    }
   ],
   "source": [
    "!pip install matplotlib"
   ]
  },
  {
   "cell_type": "code",
   "execution_count": 6,
   "metadata": {},
   "outputs": [],
   "source": [
    "%matplotlib inline\n",
    "import pandas as pd\n",
    "\n",
    "# Import the main functionality from the SimFin Python API.\n",
    "import simfin as sf\n",
    "\n",
    "# Import names used for easy access to SimFin's data-columns.\n",
    "from simfin.names import *"
   ]
  },
  {
   "cell_type": "code",
   "execution_count": 133,
   "metadata": {},
   "outputs": [
    {
     "name": "stdout",
     "output_type": "stream",
     "text": [
      "Dataset \"us-income-ttm\" on disk (0 days old).\n",
      "- Loading from disk ... \n",
      "- Applying filter ... Done!\n",
      "Dataset \"us-derived-ttm\" on disk (0 days old).\n",
      "- Loading from disk ... \n",
      "- Applying filter ... Done!\n",
      "Dataset \"us-derived-shareprices-daily\" on disk (0 days old).\n",
      "- Loading from disk ... \n",
      "- Applying filter ... Done!\n"
     ]
    }
   ],
   "source": [
    "sf.set_data_dir('~/simfin_data/')\n",
    "sf.set_api_key('f2a9da2a-ba63-44f9-a4fc-7cb33ff69e08')\n",
    "df_income = sf.load(dataset='income', variant='ttm', market='us', start_date='2013-01-01', end_date='2024-03-15', index=[TICKER, REPORT_DATE],\n",
    "              parse_dates=[REPORT_DATE, PUBLISH_DATE, RESTATED_DATE])\n",
    "\n",
    "df_ratios = sf.load_derived(variant='ttm', market='us', start_date='2013-01-01', end_date='2024-03-15', index=[TICKER, REPORT_DATE],\n",
    "              parse_dates=[REPORT_DATE, PUBLISH_DATE, RESTATED_DATE])\n",
    "\n",
    "#df_sharedprice = sf.load_derived_shareprices(variant='daily', market='us', start_date='2014-01-01', end_date='2023-12-31', index=[TICKER, REPORT_DATE],\n",
    "#              parse_dates=[REPORT_DATE, PUBLISH_DATE, RESTATED_DATE])\n",
    "df_sharedprice = sf.load_derived_shareprices(variant='daily', market='us', start_date='2013-01-01', end_date='2024-03-15', index=[TICKER, DATE], \n",
    "                                            parse_dates=[DATE])"
   ]
  },
  {
   "cell_type": "code",
   "execution_count": 134,
   "metadata": {},
   "outputs": [],
   "source": [
    "MSFT_income = df_income.loc['MSFT']\n",
    "MSFT_income = sf.resample(df=MSFT_income, rule='30T', method='bfill')\n",
    "MSFT_income = MSFT_income.loc['2014-01-01':'2023-12-31']\n",
    "\n",
    "MSFT_ratio = df_ratios.loc['MSFT']\n",
    "MSFT_ratio = sf.resample(df=MSFT_ratio, rule='30T', method='bfill')\n",
    "MSFT_ratio = MSFT_ratio.loc['2014-01-01':'2023-12-31']\n",
    "\n",
    "MSFT_sharedprice = df_sharedprice.loc['MSFT']\n",
    "MSFT_sharedprice = sf.resample(df=MSFT_sharedprice, rule='30T', method='bfill')\n",
    "MSFT_sharedprice = MSFT_sharedprice.loc['2014-01-01':'2023-12-31']\n",
    "\n",
    "#MSFT_income\n",
    "#MSFT_ratio\n",
    "#MSFT_sharedprice\n",
    "\n",
    "\n"
   ]
  },
  {
   "cell_type": "code",
   "execution_count": 137,
   "metadata": {},
   "outputs": [
    {
     "name": "stdout",
     "output_type": "stream",
     "text": [
      "               Report Date       Revenue      ROE  Net Profit Margin  \\\n",
      "0      2014-01-01 00:00:00  8.334700e+10  0.25653            0.26908   \n",
      "1      2014-01-01 00:30:00  8.334700e+10  0.25653            0.26908   \n",
      "2      2014-01-01 01:00:00  8.334700e+10  0.25653            0.26908   \n",
      "3      2014-01-01 01:30:00  8.334700e+10  0.25653            0.26908   \n",
      "4      2014-01-01 02:00:00  8.334700e+10  0.25653            0.26908   \n",
      "...                    ...           ...      ...                ...   \n",
      "175244 2023-12-30 22:00:00  2.275830e+11  0.34642            0.36269   \n",
      "175245 2023-12-30 22:30:00  2.275830e+11  0.34642            0.36269   \n",
      "175246 2023-12-30 23:00:00  2.275830e+11  0.34642            0.36269   \n",
      "175247 2023-12-30 23:30:00  2.275830e+11  0.34642            0.36269   \n",
      "175248 2023-12-31 00:00:00  2.275830e+11  0.34642            0.36269   \n",
      "\n",
      "        Current Ratio  Debt Ratio  Equity Per Share  Free Cash Flow  \\\n",
      "0             3.21523     0.14527          10.50264   -1.250100e+10   \n",
      "1             3.21523     0.14527          10.50264   -1.250100e+10   \n",
      "2             3.21523     0.14527          10.50264   -1.250100e+10   \n",
      "3             3.21523     0.14527          10.50264   -1.250100e+10   \n",
      "4             3.21523     0.14527          10.50264   -1.250100e+10   \n",
      "...               ...         ...               ...             ...   \n",
      "175244        1.21796     0.15773          32.05004    9.950700e+10   \n",
      "175245        1.21796     0.15773          32.05004    9.950700e+10   \n",
      "175246        1.21796     0.15773          32.05004    9.950700e+10   \n",
      "175247        1.21796     0.15773          32.05004    9.950700e+10   \n",
      "175248        1.21796     0.15773          32.05004    9.950700e+10   \n",
      "\n",
      "        P/B Ratio  EV/EBITDA  P/E Ratio  \n",
      "0         3.82201    7.66580   13.78175  \n",
      "1         3.82201    7.66580   13.78175  \n",
      "2         3.82201    7.66580   13.78175  \n",
      "3         3.82201    7.66580   13.78175  \n",
      "4         3.82201    7.66580   13.78175  \n",
      "...           ...        ...        ...  \n",
      "175244   12.49990   24.69464   35.78528  \n",
      "175245   12.49990   24.69464   35.78528  \n",
      "175246   12.49990   24.69464   35.78528  \n",
      "175247   12.49990   24.69464   35.78528  \n",
      "175248   12.49990   24.69464   35.78528  \n",
      "\n",
      "[175249 rows x 11 columns]\n"
     ]
    }
   ],
   "source": [
    "extracted_df = pd.DataFrame()\n",
    "#revenue\n",
    "extracted_series = MSFT_income[REVENUE]\n",
    "extracted_df[\"Revenue\"] = extracted_series\n",
    "#Return on Equity\n",
    "extracted_series = MSFT_ratio[ROE]\n",
    "extracted_df[\"ROE\"] = extracted_series\n",
    "#Net Profit Margin\n",
    "extracted_series = MSFT_ratio['Net Profit Margin']\n",
    "extracted_df[\"Net Profit Margin\"] = extracted_series\n",
    "#Current Ratio\n",
    "extracted_series = MSFT_ratio['Current Ratio']\n",
    "extracted_df[\"Current Ratio\"] = extracted_series\n",
    "#Debt Ratio\n",
    "extracted_series = MSFT_ratio['Debt Ratio']\n",
    "extracted_df[\"Debt Ratio\"] = extracted_series\n",
    "#Equity Per Share\n",
    "extracted_series = MSFT_ratio['Equity Per Share']\n",
    "extracted_df[\"Equity Per Share\"] = extracted_series\n",
    "#Free Cash Flow\n",
    "extracted_series = MSFT_ratio['Free Cash Flow']\n",
    "extracted_df[\"Free Cash Flow\"] = extracted_series\n",
    "#Price to Book Value\n",
    "extracted_series = MSFT_sharedprice['Price to Book Value']\n",
    "extracted_df[\"P/B Ratio\"] = extracted_series\n",
    "#EV/EBITDA\n",
    "extracted_series = MSFT_sharedprice['EV/EBITDA']\n",
    "extracted_df[\"EV/EBITDA\"] = extracted_series\n",
    "#Price to Earnings Ratio (ttm)\n",
    "extracted_series = MSFT_sharedprice['Price to Earnings Ratio (ttm)']\n",
    "extracted_df[\"P/E Ratio\"] = extracted_series\n",
    "\n",
    "extracted_df.reset_index(inplace=True)\n",
    "\n",
    "#extracted_df.reset_index(inplace=True)\n",
    "print(extracted_df)\n",
    "\n",
    "# Output the DataFrame to a CSV file\n",
    "output_path = 'fundamentals.csv'\n",
    "extracted_df.to_csv(output_path, index=False)"
   ]
  },
  {
   "cell_type": "code",
   "execution_count": null,
   "metadata": {},
   "outputs": [],
   "source": []
  }
 ],
 "metadata": {
  "anaconda-cloud": {},
  "kernelspec": {
   "display_name": "Python 3 (ipykernel)",
   "language": "python",
   "name": "python3"
  },
  "language_info": {
   "codemirror_mode": {
    "name": "ipython",
    "version": 3
   },
   "file_extension": ".py",
   "mimetype": "text/x-python",
   "name": "python",
   "nbconvert_exporter": "python",
   "pygments_lexer": "ipython3",
   "version": "3.11.5"
  }
 },
 "nbformat": 4,
 "nbformat_minor": 4
}
